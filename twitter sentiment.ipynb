{
 "cells": [
  {
   "cell_type": "code",
   "execution_count": 1,
   "metadata": {},
   "outputs": [],
   "source": [
    "import tweepy"
   ]
  },
  {
   "cell_type": "code",
   "execution_count": 32,
   "metadata": {},
   "outputs": [],
   "source": [
    "from textblob import TextBlob"
   ]
  },
  {
   "cell_type": "code",
   "execution_count": 33,
   "metadata": {},
   "outputs": [],
   "source": [
    "consumer_key='1ZdQFI8hQvVh2IxZC0A0kENgQ';\n",
    "consumer_secret=\"dfYbcLoy7QITYFuzNAKHtLxMf3QPH0jFw4elDD8BkjuM5hWLZ0\";"
   ]
  },
  {
   "cell_type": "code",
   "execution_count": 34,
   "metadata": {},
   "outputs": [],
   "source": [
    "access_key=\"173146154-3d1FUrLu7zBkVlHybOwuGhZ7lbqs4Dd6sWzcymR1\"\n",
    "access_secret=\"7JnFU5l6iP7fzSuxm2r4rGWLvOqDVw9TZbe6KkUD1sYzi\""
   ]
  },
  {
   "cell_type": "code",
   "execution_count": 35,
   "metadata": {},
   "outputs": [],
   "source": [
    "auth = tweepy.OAuthHandler (consumer_key, consumer_secret)"
   ]
  },
  {
   "cell_type": "code",
   "execution_count": 38,
   "metadata": {},
   "outputs": [],
   "source": [
    "auth.set_access_token(access_key, access_secret)"
   ]
  },
  {
   "cell_type": "code",
   "execution_count": 39,
   "metadata": {},
   "outputs": [],
   "source": [
    "api = tweepy.API(auth)"
   ]
  },
  {
   "cell_type": "code",
   "execution_count": 46,
   "metadata": {},
   "outputs": [],
   "source": [
    "public_tweets = api.search(\"israel\")"
   ]
  },
  {
   "cell_type": "code",
   "execution_count": 47,
   "metadata": {},
   "outputs": [
    {
     "name": "stdout",
     "output_type": "stream",
     "text": [
      "RT @Abdalazizawill: Isis is the Only terrorist orgnasation that can travel from Syria  : \n",
      "\n",
      "2000 miles to attack Paris \n",
      "\n",
      "1800 miles to attac…\n",
      "Sentiment(polarity=0.0, subjectivity=1.0)\n",
      "@browntailedhawk @SenatorMenendez Thus Israel is not bound to respect their sovereignty, as the Palestinians violat… https://t.co/HeW9p5GLAW\n",
      "Sentiment(polarity=0.0, subjectivity=0.0)\n",
      "RT @swilkinsonbc: It's crucial int'l musicians support the boycott of Israel to avoid normalising 1 of the world's most despicable gov'ts h…\n",
      "Sentiment(polarity=0.25, subjectivity=0.75)\n",
      "RT @thesluis: Het is nauwelijks in het nieuws geweest, maar #Israël heeft weer een #terreurtunnel van #Hamas onschadelijk gemaakt. \n",
      "Tiental…\n",
      "Sentiment(polarity=0.0, subjectivity=0.0)\n",
      "Administration to advance the goals of the Jackson–Vanik amendment complicated the emergency supply of American military weapons to Israel.\n",
      "Sentiment(polarity=-0.19999999999999998, subjectivity=0.3666666666666667)\n",
      "@CNN How can she be honest. She no longer knows what's true because of all the lies.\n",
      "Sentiment(polarity=0.475, subjectivity=0.775)\n",
      "RT @CWGC: RT @nader_habash: More and more visiters today in @CWGC Ramleh war cemetery Israel https://t.co/WdsAjrCs8k\n",
      "Sentiment(polarity=0.5, subjectivity=0.5)\n",
      "RT @Abdalazizawill: Isis is the Only terrorist orgnasation that can travel from Syria  : \n",
      "\n",
      "2000 miles to attack Paris \n",
      "\n",
      "1800 miles to attac…\n",
      "Sentiment(polarity=0.0, subjectivity=1.0)\n",
      "RT @NPMPParty: When others say Israel is our only friend in the Middle East. My reply back is before Israel we had no enemies in the Middle…\n",
      "Sentiment(polarity=0.0, subjectivity=0.3333333333333333)\n",
      "RT @CalviinG: En 98 : \n",
      "-l'Israël à gagner l'Eurovision\n",
      "-le Real Madrid a gagné la ldc\n",
      "-la France championne du monde\n",
      "\n",
      "En 2018 :\n",
      "-L'israel à…\n",
      "Sentiment(polarity=0.2, subjectivity=0.30000000000000004)\n",
      "RT @cjwerleman: Israel has an app that instructs its army of online trolls what to say, post and whose comment/post/tweet to like/share/ret…\n",
      "Sentiment(polarity=0.0, subjectivity=0.0)\n",
      "RT @ShibleyTelhami: Depends what one means by \"support Israel\"; they certainly support extremist government agenda, which may in the end be…\n",
      "Sentiment(polarity=0.21428571428571427, subjectivity=0.5714285714285714)\n",
      "RT @detikTravel: WNI Dilarang ke Israel, Memang Cara Dapat Visanya Bagaimana? https://t.co/UsqQmI4BiQ\n",
      "Sentiment(polarity=0.0, subjectivity=0.0)\n",
      "RT @Mentimoen: @mozafemimoza Netanyahu: Warga Indonesia ga boleh masuk Israel, krn warga Israel dilarang masuk Indonesia.😤😤\n",
      "\n",
      "Retno: Mas Bib…\n",
      "Sentiment(polarity=0.0, subjectivity=0.0)\n",
      "If I whet my glittering sword, and all the children of Israel done so.\n",
      "Sentiment(polarity=0.0, subjectivity=0.0)\n"
     ]
    }
   ],
   "source": [
    "for tweet in public_tweets:\n",
    "    print(tweet.text)\n",
    "    analysis=TextBlob(tweet.text);\n",
    "    print(analysis.sentiment)\n",
    "    "
   ]
  },
  {
   "cell_type": "code",
   "execution_count": null,
   "metadata": {},
   "outputs": [],
   "source": []
  }
 ],
 "metadata": {
  "kernelspec": {
   "display_name": "Python 3",
   "language": "python",
   "name": "python3"
  },
  "language_info": {
   "codemirror_mode": {
    "name": "ipython",
    "version": 3
   },
   "file_extension": ".py",
   "mimetype": "text/x-python",
   "name": "python",
   "nbconvert_exporter": "python",
   "pygments_lexer": "ipython3",
   "version": "3.6.4"
  }
 },
 "nbformat": 4,
 "nbformat_minor": 2
}
